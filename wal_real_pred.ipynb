{
 "cells": [
  {
   "cell_type": "code",
   "execution_count": 31,
   "metadata": {},
   "outputs": [],
   "source": [
    "import pandas as pd\n",
    "import numpy as np\n",
    "%matplotlib inline\n",
    "import matplotlib.pyplot as plt"
   ]
  },
  {
   "cell_type": "code",
   "execution_count": 2,
   "metadata": {},
   "outputs": [],
   "source": [
    "wal = pd.read_csv('C:/Users/User/Desktop/Walmart Sales Dataset of 45stores/walmart-sales-dataset-of-45stores.csv')"
   ]
  },
  {
   "cell_type": "code",
   "execution_count": 3,
   "metadata": {},
   "outputs": [
    {
     "data": {
      "text/html": [
       "<div>\n",
       "<style scoped>\n",
       "    .dataframe tbody tr th:only-of-type {\n",
       "        vertical-align: middle;\n",
       "    }\n",
       "\n",
       "    .dataframe tbody tr th {\n",
       "        vertical-align: top;\n",
       "    }\n",
       "\n",
       "    .dataframe thead th {\n",
       "        text-align: right;\n",
       "    }\n",
       "</style>\n",
       "<table border=\"1\" class=\"dataframe\">\n",
       "  <thead>\n",
       "    <tr style=\"text-align: right;\">\n",
       "      <th></th>\n",
       "      <th>Store</th>\n",
       "      <th>Date</th>\n",
       "      <th>Weekly_Sales</th>\n",
       "      <th>Holiday_Flag</th>\n",
       "      <th>Temperature</th>\n",
       "      <th>Fuel_Price</th>\n",
       "      <th>CPI</th>\n",
       "      <th>Unemployment</th>\n",
       "    </tr>\n",
       "  </thead>\n",
       "  <tbody>\n",
       "    <tr>\n",
       "      <th>0</th>\n",
       "      <td>1</td>\n",
       "      <td>05-02-2010</td>\n",
       "      <td>1643690.90</td>\n",
       "      <td>0</td>\n",
       "      <td>42.31</td>\n",
       "      <td>2.572</td>\n",
       "      <td>211.096358</td>\n",
       "      <td>8.106</td>\n",
       "    </tr>\n",
       "    <tr>\n",
       "      <th>1</th>\n",
       "      <td>1</td>\n",
       "      <td>12-02-2010</td>\n",
       "      <td>1641957.44</td>\n",
       "      <td>1</td>\n",
       "      <td>38.51</td>\n",
       "      <td>2.548</td>\n",
       "      <td>211.242170</td>\n",
       "      <td>8.106</td>\n",
       "    </tr>\n",
       "    <tr>\n",
       "      <th>2</th>\n",
       "      <td>1</td>\n",
       "      <td>19-02-2010</td>\n",
       "      <td>1611968.17</td>\n",
       "      <td>0</td>\n",
       "      <td>39.93</td>\n",
       "      <td>2.514</td>\n",
       "      <td>211.289143</td>\n",
       "      <td>8.106</td>\n",
       "    </tr>\n",
       "    <tr>\n",
       "      <th>3</th>\n",
       "      <td>1</td>\n",
       "      <td>26-02-2010</td>\n",
       "      <td>1409727.59</td>\n",
       "      <td>0</td>\n",
       "      <td>46.63</td>\n",
       "      <td>2.561</td>\n",
       "      <td>211.319643</td>\n",
       "      <td>8.106</td>\n",
       "    </tr>\n",
       "    <tr>\n",
       "      <th>4</th>\n",
       "      <td>1</td>\n",
       "      <td>05-03-2010</td>\n",
       "      <td>1554806.68</td>\n",
       "      <td>0</td>\n",
       "      <td>46.50</td>\n",
       "      <td>2.625</td>\n",
       "      <td>211.350143</td>\n",
       "      <td>8.106</td>\n",
       "    </tr>\n",
       "  </tbody>\n",
       "</table>\n",
       "</div>"
      ],
      "text/plain": [
       "   Store        Date  Weekly_Sales  Holiday_Flag  Temperature  Fuel_Price  \\\n",
       "0      1  05-02-2010    1643690.90             0        42.31       2.572   \n",
       "1      1  12-02-2010    1641957.44             1        38.51       2.548   \n",
       "2      1  19-02-2010    1611968.17             0        39.93       2.514   \n",
       "3      1  26-02-2010    1409727.59             0        46.63       2.561   \n",
       "4      1  05-03-2010    1554806.68             0        46.50       2.625   \n",
       "\n",
       "          CPI  Unemployment  \n",
       "0  211.096358         8.106  \n",
       "1  211.242170         8.106  \n",
       "2  211.289143         8.106  \n",
       "3  211.319643         8.106  \n",
       "4  211.350143         8.106  "
      ]
     },
     "execution_count": 3,
     "metadata": {},
     "output_type": "execute_result"
    }
   ],
   "source": [
    "wal.head()"
   ]
  },
  {
   "cell_type": "code",
   "execution_count": 4,
   "metadata": {},
   "outputs": [],
   "source": [
    "wal['Date'] = wal['Date'].str[6:] +'-'+ wal['Date'].str[3:5] + '-'+ wal['Date'].str[0:2]"
   ]
  },
  {
   "cell_type": "code",
   "execution_count": 11,
   "metadata": {},
   "outputs": [
    {
     "data": {
      "text/html": [
       "<div>\n",
       "<style scoped>\n",
       "    .dataframe tbody tr th:only-of-type {\n",
       "        vertical-align: middle;\n",
       "    }\n",
       "\n",
       "    .dataframe tbody tr th {\n",
       "        vertical-align: top;\n",
       "    }\n",
       "\n",
       "    .dataframe thead th {\n",
       "        text-align: right;\n",
       "    }\n",
       "</style>\n",
       "<table border=\"1\" class=\"dataframe\">\n",
       "  <thead>\n",
       "    <tr style=\"text-align: right;\">\n",
       "      <th></th>\n",
       "      <th>Store</th>\n",
       "      <th>Date</th>\n",
       "      <th>Weekly_Sales</th>\n",
       "      <th>Holiday_Flag</th>\n",
       "      <th>Temperature</th>\n",
       "      <th>Fuel_Price</th>\n",
       "      <th>CPI</th>\n",
       "      <th>Unemployment</th>\n",
       "    </tr>\n",
       "  </thead>\n",
       "  <tbody>\n",
       "    <tr>\n",
       "      <th>0</th>\n",
       "      <td>1</td>\n",
       "      <td>2010-02-05</td>\n",
       "      <td>1643690.90</td>\n",
       "      <td>0</td>\n",
       "      <td>42.31</td>\n",
       "      <td>2.572</td>\n",
       "      <td>211.096358</td>\n",
       "      <td>8.106</td>\n",
       "    </tr>\n",
       "    <tr>\n",
       "      <th>1</th>\n",
       "      <td>1</td>\n",
       "      <td>2010-02-12</td>\n",
       "      <td>1641957.44</td>\n",
       "      <td>1</td>\n",
       "      <td>38.51</td>\n",
       "      <td>2.548</td>\n",
       "      <td>211.242170</td>\n",
       "      <td>8.106</td>\n",
       "    </tr>\n",
       "    <tr>\n",
       "      <th>2</th>\n",
       "      <td>1</td>\n",
       "      <td>2010-02-19</td>\n",
       "      <td>1611968.17</td>\n",
       "      <td>0</td>\n",
       "      <td>39.93</td>\n",
       "      <td>2.514</td>\n",
       "      <td>211.289143</td>\n",
       "      <td>8.106</td>\n",
       "    </tr>\n",
       "    <tr>\n",
       "      <th>3</th>\n",
       "      <td>1</td>\n",
       "      <td>2010-02-26</td>\n",
       "      <td>1409727.59</td>\n",
       "      <td>0</td>\n",
       "      <td>46.63</td>\n",
       "      <td>2.561</td>\n",
       "      <td>211.319643</td>\n",
       "      <td>8.106</td>\n",
       "    </tr>\n",
       "    <tr>\n",
       "      <th>4</th>\n",
       "      <td>1</td>\n",
       "      <td>2010-03-05</td>\n",
       "      <td>1554806.68</td>\n",
       "      <td>0</td>\n",
       "      <td>46.50</td>\n",
       "      <td>2.625</td>\n",
       "      <td>211.350143</td>\n",
       "      <td>8.106</td>\n",
       "    </tr>\n",
       "  </tbody>\n",
       "</table>\n",
       "</div>"
      ],
      "text/plain": [
       "   Store        Date  Weekly_Sales  Holiday_Flag  Temperature  Fuel_Price  \\\n",
       "0      1  2010-02-05    1643690.90             0        42.31       2.572   \n",
       "1      1  2010-02-12    1641957.44             1        38.51       2.548   \n",
       "2      1  2010-02-19    1611968.17             0        39.93       2.514   \n",
       "3      1  2010-02-26    1409727.59             0        46.63       2.561   \n",
       "4      1  2010-03-05    1554806.68             0        46.50       2.625   \n",
       "\n",
       "          CPI  Unemployment  \n",
       "0  211.096358         8.106  \n",
       "1  211.242170         8.106  \n",
       "2  211.289143         8.106  \n",
       "3  211.319643         8.106  \n",
       "4  211.350143         8.106  "
      ]
     },
     "execution_count": 11,
     "metadata": {},
     "output_type": "execute_result"
    }
   ],
   "source": [
    "wal.head()"
   ]
  },
  {
   "cell_type": "code",
   "execution_count": 5,
   "metadata": {},
   "outputs": [],
   "source": [
    "wal = wal.set_index(['Date'])"
   ]
  },
  {
   "cell_type": "code",
   "execution_count": 6,
   "metadata": {},
   "outputs": [],
   "source": [
    "wal.index = pd.to_datetime(wal.index)"
   ]
  },
  {
   "cell_type": "code",
   "execution_count": 17,
   "metadata": {},
   "outputs": [
    {
     "name": "stdout",
     "output_type": "stream",
     "text": [
      "<class 'pandas.core.frame.DataFrame'>\n",
      "DatetimeIndex: 6435 entries, 2010-02-05 to 2012-10-26\n",
      "Data columns (total 7 columns):\n",
      " #   Column        Non-Null Count  Dtype  \n",
      "---  ------        --------------  -----  \n",
      " 0   Store         6435 non-null   int64  \n",
      " 1   Weekly_Sales  6435 non-null   float64\n",
      " 2   Holiday_Flag  6435 non-null   int64  \n",
      " 3   Temperature   6435 non-null   float64\n",
      " 4   Fuel_Price    6435 non-null   float64\n",
      " 5   CPI           6435 non-null   float64\n",
      " 6   Unemployment  6435 non-null   float64\n",
      "dtypes: float64(5), int64(2)\n",
      "memory usage: 402.2 KB\n"
     ]
    }
   ],
   "source": [
    "wal.info()"
   ]
  },
  {
   "cell_type": "code",
   "execution_count": 18,
   "metadata": {},
   "outputs": [
    {
     "data": {
      "text/html": [
       "<div>\n",
       "<style scoped>\n",
       "    .dataframe tbody tr th:only-of-type {\n",
       "        vertical-align: middle;\n",
       "    }\n",
       "\n",
       "    .dataframe tbody tr th {\n",
       "        vertical-align: top;\n",
       "    }\n",
       "\n",
       "    .dataframe thead th {\n",
       "        text-align: right;\n",
       "    }\n",
       "</style>\n",
       "<table border=\"1\" class=\"dataframe\">\n",
       "  <thead>\n",
       "    <tr style=\"text-align: right;\">\n",
       "      <th></th>\n",
       "      <th>Store</th>\n",
       "      <th>Weekly_Sales</th>\n",
       "      <th>Holiday_Flag</th>\n",
       "      <th>Temperature</th>\n",
       "      <th>Fuel_Price</th>\n",
       "      <th>CPI</th>\n",
       "      <th>Unemployment</th>\n",
       "    </tr>\n",
       "    <tr>\n",
       "      <th>Date</th>\n",
       "      <th></th>\n",
       "      <th></th>\n",
       "      <th></th>\n",
       "      <th></th>\n",
       "      <th></th>\n",
       "      <th></th>\n",
       "      <th></th>\n",
       "    </tr>\n",
       "  </thead>\n",
       "  <tbody>\n",
       "    <tr>\n",
       "      <th>2010-02-05</th>\n",
       "      <td>1</td>\n",
       "      <td>1643690.90</td>\n",
       "      <td>0</td>\n",
       "      <td>42.31</td>\n",
       "      <td>2.572</td>\n",
       "      <td>211.096358</td>\n",
       "      <td>8.106</td>\n",
       "    </tr>\n",
       "    <tr>\n",
       "      <th>2010-02-12</th>\n",
       "      <td>1</td>\n",
       "      <td>1641957.44</td>\n",
       "      <td>1</td>\n",
       "      <td>38.51</td>\n",
       "      <td>2.548</td>\n",
       "      <td>211.242170</td>\n",
       "      <td>8.106</td>\n",
       "    </tr>\n",
       "    <tr>\n",
       "      <th>2010-02-19</th>\n",
       "      <td>1</td>\n",
       "      <td>1611968.17</td>\n",
       "      <td>0</td>\n",
       "      <td>39.93</td>\n",
       "      <td>2.514</td>\n",
       "      <td>211.289143</td>\n",
       "      <td>8.106</td>\n",
       "    </tr>\n",
       "    <tr>\n",
       "      <th>2010-02-26</th>\n",
       "      <td>1</td>\n",
       "      <td>1409727.59</td>\n",
       "      <td>0</td>\n",
       "      <td>46.63</td>\n",
       "      <td>2.561</td>\n",
       "      <td>211.319643</td>\n",
       "      <td>8.106</td>\n",
       "    </tr>\n",
       "    <tr>\n",
       "      <th>2010-03-05</th>\n",
       "      <td>1</td>\n",
       "      <td>1554806.68</td>\n",
       "      <td>0</td>\n",
       "      <td>46.50</td>\n",
       "      <td>2.625</td>\n",
       "      <td>211.350143</td>\n",
       "      <td>8.106</td>\n",
       "    </tr>\n",
       "  </tbody>\n",
       "</table>\n",
       "</div>"
      ],
      "text/plain": [
       "            Store  Weekly_Sales  Holiday_Flag  Temperature  Fuel_Price  \\\n",
       "Date                                                                     \n",
       "2010-02-05      1    1643690.90             0        42.31       2.572   \n",
       "2010-02-12      1    1641957.44             1        38.51       2.548   \n",
       "2010-02-19      1    1611968.17             0        39.93       2.514   \n",
       "2010-02-26      1    1409727.59             0        46.63       2.561   \n",
       "2010-03-05      1    1554806.68             0        46.50       2.625   \n",
       "\n",
       "                   CPI  Unemployment  \n",
       "Date                                  \n",
       "2010-02-05  211.096358         8.106  \n",
       "2010-02-12  211.242170         8.106  \n",
       "2010-02-19  211.289143         8.106  \n",
       "2010-02-26  211.319643         8.106  \n",
       "2010-03-05  211.350143         8.106  "
      ]
     },
     "execution_count": 18,
     "metadata": {},
     "output_type": "execute_result"
    }
   ],
   "source": [
    "wal.head()"
   ]
  },
  {
   "cell_type": "code",
   "execution_count": 7,
   "metadata": {},
   "outputs": [],
   "source": [
    "wal_1 = wal[wal['Store'] == 1]"
   ]
  },
  {
   "cell_type": "code",
   "execution_count": 8,
   "metadata": {},
   "outputs": [],
   "source": [
    "wal = wal_1[['Weekly_Sales']]"
   ]
  },
  {
   "cell_type": "code",
   "execution_count": 9,
   "metadata": {},
   "outputs": [
    {
     "data": {
      "text/plain": [
       "143"
      ]
     },
     "execution_count": 9,
     "metadata": {},
     "output_type": "execute_result"
    }
   ],
   "source": [
    "len(wal)"
   ]
  },
  {
   "cell_type": "code",
   "execution_count": 172,
   "metadata": {},
   "outputs": [],
   "source": [
    "train = wal.iloc[:-24]\n",
    "test = wal.iloc[-24:]"
   ]
  },
  {
   "cell_type": "code",
   "execution_count": null,
   "metadata": {},
   "outputs": [],
   "source": [
    "from sklearn,preprocessing import MinMaxScaler"
   ]
  },
  {
   "cell_type": "code",
   "execution_count": 173,
   "metadata": {},
   "outputs": [],
   "source": [
    "scaler = MinMaxScaler()"
   ]
  },
  {
   "cell_type": "code",
   "execution_count": 174,
   "metadata": {},
   "outputs": [
    {
     "data": {
      "text/plain": [
       "MinMaxScaler()"
      ]
     },
     "execution_count": 174,
     "metadata": {},
     "output_type": "execute_result"
    }
   ],
   "source": [
    "scaler.fit(train)"
   ]
  },
  {
   "cell_type": "code",
   "execution_count": 175,
   "metadata": {},
   "outputs": [],
   "source": [
    "scaled_train = scaler.transform(train)\n",
    "scaled_test = scaler.transform(test)"
   ]
  },
  {
   "cell_type": "code",
   "execution_count": 19,
   "metadata": {},
   "outputs": [],
   "source": [
    "from keras.preprocessing.sequence import TimeseriesGenerator"
   ]
  },
  {
   "cell_type": "code",
   "execution_count": 176,
   "metadata": {},
   "outputs": [],
   "source": [
    "n_input =24\n",
    "n_features =1 \n",
    "generator = TimeseriesGenerator(scaled_train, scaled_train, length = n_input, batch_size = 1)"
   ]
  },
  {
   "cell_type": "code",
   "execution_count": 92,
   "metadata": {},
   "outputs": [
    {
     "data": {
      "text/plain": [
       "(array([[[0.30511304],\n",
       "         [0.30349457]]]),\n",
       " array([[0.27549472]]))"
      ]
     },
     "execution_count": 92,
     "metadata": {},
     "output_type": "execute_result"
    }
   ],
   "source": [
    "generator[0]"
   ]
  },
  {
   "cell_type": "code",
   "execution_count": 24,
   "metadata": {},
   "outputs": [],
   "source": [
    "from keras.models import Sequential\n",
    "from keras.layers import Dense\n",
    "from keras.layers import LSTM"
   ]
  },
  {
   "cell_type": "code",
   "execution_count": 177,
   "metadata": {},
   "outputs": [],
   "source": [
    "model = Sequential()"
   ]
  },
  {
   "cell_type": "code",
   "execution_count": 178,
   "metadata": {},
   "outputs": [
    {
     "name": "stdout",
     "output_type": "stream",
     "text": [
      "Model: \"sequential_4\"\n",
      "_________________________________________________________________\n",
      " Layer (type)                Output Shape              Param #   \n",
      "=================================================================\n",
      " lstm_4 (LSTM)               (None, 100)               40800     \n",
      "                                                                 \n",
      " dense_4 (Dense)             (None, 1)                 101       \n",
      "                                                                 \n",
      "=================================================================\n",
      "Total params: 40,901\n",
      "Trainable params: 40,901\n",
      "Non-trainable params: 0\n",
      "_________________________________________________________________\n"
     ]
    }
   ],
   "source": [
    "model.add(LSTM(100,activation='relu',input_shape = (n_input,n_features)))\n",
    "model.add(Dense(1))\n",
    "model.compile(optimizer='adam',loss = 'mse')\n",
    "model.summary()"
   ]
  },
  {
   "cell_type": "code",
   "execution_count": 179,
   "metadata": {},
   "outputs": [
    {
     "name": "stdout",
     "output_type": "stream",
     "text": [
      "Epoch 1/50\n"
     ]
    },
    {
     "name": "stderr",
     "output_type": "stream",
     "text": [
      "C:\\Users\\User\\AppData\\Local\\Temp\\ipykernel_13924\\2302594644.py:1: UserWarning: `Model.fit_generator` is deprecated and will be removed in a future version. Please use `Model.fit`, which supports generators.\n",
      "  model.fit_generator(generator, epochs = 50)\n"
     ]
    },
    {
     "name": "stdout",
     "output_type": "stream",
     "text": [
      "95/95 [==============================] - 3s 9ms/step - loss: 0.0337\n",
      "Epoch 2/50\n",
      "95/95 [==============================] - 1s 9ms/step - loss: 0.0298\n",
      "Epoch 3/50\n",
      "95/95 [==============================] - 1s 9ms/step - loss: 0.0286\n",
      "Epoch 4/50\n",
      "95/95 [==============================] - 1s 9ms/step - loss: 0.0311\n",
      "Epoch 5/50\n",
      "95/95 [==============================] - 1s 9ms/step - loss: 0.0270\n",
      "Epoch 6/50\n",
      "95/95 [==============================] - 1s 9ms/step - loss: 0.0273\n",
      "Epoch 7/50\n",
      "95/95 [==============================] - 1s 9ms/step - loss: 0.0289\n",
      "Epoch 8/50\n",
      "95/95 [==============================] - 1s 10ms/step - loss: 0.0284\n",
      "Epoch 9/50\n",
      "95/95 [==============================] - 1s 9ms/step - loss: 0.0274\n",
      "Epoch 10/50\n",
      "95/95 [==============================] - 1s 10ms/step - loss: 0.0271\n",
      "Epoch 11/50\n",
      "95/95 [==============================] - 1s 12ms/step - loss: 0.0275\n",
      "Epoch 12/50\n",
      "95/95 [==============================] - 1s 9ms/step - loss: 0.0270\n",
      "Epoch 13/50\n",
      "95/95 [==============================] - 1s 9ms/step - loss: 0.0268\n",
      "Epoch 14/50\n",
      "95/95 [==============================] - 1s 9ms/step - loss: 0.0267\n",
      "Epoch 15/50\n",
      "95/95 [==============================] - 1s 10ms/step - loss: 0.0263\n",
      "Epoch 16/50\n",
      "95/95 [==============================] - 1s 9ms/step - loss: 0.0274\n",
      "Epoch 17/50\n",
      "95/95 [==============================] - 1s 9ms/step - loss: 0.0262\n",
      "Epoch 18/50\n",
      "95/95 [==============================] - 1s 9ms/step - loss: 0.0263\n",
      "Epoch 19/50\n",
      "95/95 [==============================] - 1s 9ms/step - loss: 0.0256\n",
      "Epoch 20/50\n",
      "95/95 [==============================] - 1s 9ms/step - loss: 0.0255\n",
      "Epoch 21/50\n",
      "95/95 [==============================] - 1s 9ms/step - loss: 0.0254\n",
      "Epoch 22/50\n",
      "95/95 [==============================] - 1s 11ms/step - loss: 0.0246\n",
      "Epoch 23/50\n",
      "95/95 [==============================] - 1s 9ms/step - loss: 0.0245\n",
      "Epoch 24/50\n",
      "95/95 [==============================] - 1s 9ms/step - loss: 0.0248\n",
      "Epoch 25/50\n",
      "95/95 [==============================] - 1s 9ms/step - loss: 0.0246\n",
      "Epoch 26/50\n",
      "95/95 [==============================] - 1s 10ms/step - loss: 0.0238\n",
      "Epoch 27/50\n",
      "95/95 [==============================] - 1s 9ms/step - loss: 0.0230\n",
      "Epoch 28/50\n",
      "95/95 [==============================] - 1s 9ms/step - loss: 0.0234\n",
      "Epoch 29/50\n",
      "95/95 [==============================] - 1s 9ms/step - loss: 0.0232\n",
      "Epoch 30/50\n",
      "95/95 [==============================] - 1s 9ms/step - loss: 0.0232\n",
      "Epoch 31/50\n",
      "95/95 [==============================] - 1s 9ms/step - loss: 0.0232\n",
      "Epoch 32/50\n",
      "95/95 [==============================] - 1s 9ms/step - loss: 0.0214\n",
      "Epoch 33/50\n",
      "95/95 [==============================] - 1s 9ms/step - loss: 0.0219\n",
      "Epoch 34/50\n",
      "95/95 [==============================] - 1s 10ms/step - loss: 0.0216\n",
      "Epoch 35/50\n",
      "95/95 [==============================] - 1s 9ms/step - loss: 0.0224\n",
      "Epoch 36/50\n",
      "95/95 [==============================] - 1s 9ms/step - loss: 0.0225\n",
      "Epoch 37/50\n",
      "95/95 [==============================] - 1s 9ms/step - loss: 0.0219\n",
      "Epoch 38/50\n",
      "95/95 [==============================] - 1s 9ms/step - loss: 0.0212\n",
      "Epoch 39/50\n",
      "95/95 [==============================] - 1s 9ms/step - loss: 0.0222\n",
      "Epoch 40/50\n",
      "95/95 [==============================] - 1s 9ms/step - loss: 0.0207\n",
      "Epoch 41/50\n",
      "95/95 [==============================] - 1s 9ms/step - loss: 0.0195\n",
      "Epoch 42/50\n",
      "95/95 [==============================] - 1s 9ms/step - loss: 0.0218\n",
      "Epoch 43/50\n",
      "95/95 [==============================] - 1s 9ms/step - loss: 0.0195\n",
      "Epoch 44/50\n",
      "95/95 [==============================] - 1s 9ms/step - loss: 0.0199\n",
      "Epoch 45/50\n",
      "95/95 [==============================] - 1s 9ms/step - loss: 0.0190\n",
      "Epoch 46/50\n",
      "95/95 [==============================] - 1s 9ms/step - loss: 0.0200\n",
      "Epoch 47/50\n",
      "95/95 [==============================] - 1s 9ms/step - loss: 0.0193\n",
      "Epoch 48/50\n",
      "95/95 [==============================] - 1s 9ms/step - loss: 0.0192\n",
      "Epoch 49/50\n",
      "95/95 [==============================] - 1s 9ms/step - loss: 0.0181\n",
      "Epoch 50/50\n",
      "95/95 [==============================] - 1s 9ms/step - loss: 0.0174\n"
     ]
    },
    {
     "data": {
      "text/plain": [
       "<keras.callbacks.History at 0x21108170f10>"
      ]
     },
     "execution_count": 179,
     "metadata": {},
     "output_type": "execute_result"
    }
   ],
   "source": [
    "model.fit_generator(generator, epochs = 50)"
   ]
  },
  {
   "cell_type": "code",
   "execution_count": 180,
   "metadata": {},
   "outputs": [],
   "source": [
    "first_eval_batch = scaled_train[-24:]"
   ]
  },
  {
   "cell_type": "code",
   "execution_count": 181,
   "metadata": {},
   "outputs": [
    {
     "data": {
      "text/plain": [
       "array([[0.24946027],\n",
       "       [0.45075642],\n",
       "       [0.52684458],\n",
       "       [0.89005078],\n",
       "       [0.16858528],\n",
       "       [0.21798274],\n",
       "       [0.13323537],\n",
       "       [0.07235373],\n",
       "       [0.00226533],\n",
       "       [0.29824945],\n",
       "       [0.45336606],\n",
       "       [0.46960485],\n",
       "       [0.20772918],\n",
       "       [0.34687563],\n",
       "       [0.33474773],\n",
       "       [0.33665391],\n",
       "       [0.18128808],\n",
       "       [0.31063446],\n",
       "       [0.54411753],\n",
       "       [0.28395699],\n",
       "       [0.19110069],\n",
       "       [0.14194382],\n",
       "       [0.34323363],\n",
       "       [0.27468045]])"
      ]
     },
     "execution_count": 181,
     "metadata": {},
     "output_type": "execute_result"
    }
   ],
   "source": [
    "first_eval_batch"
   ]
  },
  {
   "cell_type": "code",
   "execution_count": 182,
   "metadata": {},
   "outputs": [],
   "source": [
    "first_eval_batch = first_eval_batch.reshape((1,n_input,n_features))"
   ]
  },
  {
   "cell_type": "code",
   "execution_count": 183,
   "metadata": {},
   "outputs": [
    {
     "name": "stdout",
     "output_type": "stream",
     "text": [
      "1/1 [==============================] - 0s 286ms/step\n"
     ]
    },
    {
     "data": {
      "text/plain": [
       "array([[0.2337997]], dtype=float32)"
      ]
     },
     "execution_count": 183,
     "metadata": {},
     "output_type": "execute_result"
    }
   ],
   "source": [
    "model.predict(first_eval_batch)"
   ]
  },
  {
   "cell_type": "code",
   "execution_count": 184,
   "metadata": {},
   "outputs": [
    {
     "data": {
      "text/plain": [
       "array([0.26049421])"
      ]
     },
     "execution_count": 184,
     "metadata": {},
     "output_type": "execute_result"
    }
   ],
   "source": [
    "scaled_test[0]"
   ]
  },
  {
   "cell_type": "code",
   "execution_count": 185,
   "metadata": {},
   "outputs": [],
   "source": [
    "test_predictions = []"
   ]
  },
  {
   "cell_type": "code",
   "execution_count": 186,
   "metadata": {},
   "outputs": [
    {
     "name": "stdout",
     "output_type": "stream",
     "text": [
      "1/1 [==============================] - 0s 32ms/step\n",
      "1/1 [==============================] - 0s 20ms/step\n",
      "1/1 [==============================] - 0s 24ms/step\n",
      "1/1 [==============================] - 0s 33ms/step\n",
      "1/1 [==============================] - 0s 34ms/step\n",
      "1/1 [==============================] - 0s 32ms/step\n",
      "1/1 [==============================] - 0s 25ms/step\n",
      "1/1 [==============================] - 0s 28ms/step\n",
      "1/1 [==============================] - 0s 28ms/step\n",
      "1/1 [==============================] - 0s 27ms/step\n",
      "1/1 [==============================] - 0s 30ms/step\n",
      "1/1 [==============================] - 0s 30ms/step\n",
      "1/1 [==============================] - 0s 27ms/step\n",
      "1/1 [==============================] - 0s 28ms/step\n",
      "1/1 [==============================] - 0s 27ms/step\n",
      "1/1 [==============================] - 0s 25ms/step\n",
      "1/1 [==============================] - 0s 25ms/step\n",
      "1/1 [==============================] - 0s 25ms/step\n",
      "1/1 [==============================] - 0s 28ms/step\n",
      "1/1 [==============================] - 0s 25ms/step\n",
      "1/1 [==============================] - 0s 24ms/step\n",
      "1/1 [==============================] - 0s 24ms/step\n",
      "1/1 [==============================] - 0s 32ms/step\n",
      "1/1 [==============================] - 0s 32ms/step\n"
     ]
    }
   ],
   "source": [
    "first_eval_batch = scaled_train[-n_input:]\n",
    "current_batch = first_eval_batch.reshape((1,n_input,n_features))\n",
    "for i in range(len(test)):\n",
    "    current_pred = model.predict(current_batch)[0]\n",
    "    test_predictions.append(current_pred)\n",
    "    current_batch = np.append(current_batch[:,1:,:],[[current_pred]],axis = 1)"
   ]
  },
  {
   "cell_type": "code",
   "execution_count": 187,
   "metadata": {},
   "outputs": [
    {
     "data": {
      "text/plain": [
       "[array([0.2337997], dtype=float32),\n",
       " array([0.22614822], dtype=float32),\n",
       " array([0.22253188], dtype=float32),\n",
       " array([0.22082818], dtype=float32),\n",
       " array([0.2096112], dtype=float32),\n",
       " array([0.20431197], dtype=float32),\n",
       " array([0.19971892], dtype=float32),\n",
       " array([0.19545084], dtype=float32),\n",
       " array([0.19146219], dtype=float32),\n",
       " array([0.18819033], dtype=float32),\n",
       " array([0.18629773], dtype=float32),\n",
       " array([0.18618067], dtype=float32),\n",
       " array([0.1863227], dtype=float32),\n",
       " array([0.18513557], dtype=float32),\n",
       " array([0.18417758], dtype=float32),\n",
       " array([0.18373053], dtype=float32),\n",
       " array([0.18382998], dtype=float32),\n",
       " array([0.1837996], dtype=float32),\n",
       " array([0.18456462], dtype=float32),\n",
       " array([0.18614373], dtype=float32),\n",
       " array([0.18663023], dtype=float32),\n",
       " array([0.18699217], dtype=float32),\n",
       " array([0.18716721], dtype=float32),\n",
       " array([0.18746236], dtype=float32)]"
      ]
     },
     "execution_count": 187,
     "metadata": {},
     "output_type": "execute_result"
    }
   ],
   "source": [
    "test_predictions"
   ]
  },
  {
   "cell_type": "code",
   "execution_count": 188,
   "metadata": {},
   "outputs": [],
   "source": [
    "true_predictions = scaler.inverse_transform(test_predictions)"
   ]
  },
  {
   "cell_type": "code",
   "execution_count": 189,
   "metadata": {},
   "outputs": [
    {
     "data": {
      "text/plain": [
       "array([[1567310.68244893],\n",
       "       [1559115.56007137],\n",
       "       [1555242.28338482],\n",
       "       [1553417.52395427],\n",
       "       [1541403.58007564],\n",
       "       [1535727.82398167],\n",
       "       [1530808.43956133],\n",
       "       [1526237.10868291],\n",
       "       [1521965.05788602],\n",
       "       [1518460.72625304],\n",
       "       [1516433.65910527],\n",
       "       [1516308.27811548],\n",
       "       [1516460.40790095],\n",
       "       [1515188.9303916 ],\n",
       "       [1514162.86829468],\n",
       "       [1513684.05527602],\n",
       "       [1513790.57166169],\n",
       "       [1513758.0294216 ],\n",
       "       [1514577.41078815],\n",
       "       [1516268.71351852],\n",
       "       [1516789.78835757],\n",
       "       [1517177.43841625],\n",
       "       [1517364.91938456],\n",
       "       [1517681.03716265]])"
      ]
     },
     "execution_count": 189,
     "metadata": {},
     "output_type": "execute_result"
    }
   ],
   "source": [
    "true_predictions"
   ]
  },
  {
   "cell_type": "code",
   "execution_count": 190,
   "metadata": {
    "scrolled": true
   },
   "outputs": [
    {
     "name": "stderr",
     "output_type": "stream",
     "text": [
      "C:\\Users\\User\\AppData\\Local\\Temp\\ipykernel_13924\\1583589259.py:1: SettingWithCopyWarning: \n",
      "A value is trying to be set on a copy of a slice from a DataFrame.\n",
      "Try using .loc[row_indexer,col_indexer] = value instead\n",
      "\n",
      "See the caveats in the documentation: https://pandas.pydata.org/pandas-docs/stable/user_guide/indexing.html#returning-a-view-versus-a-copy\n",
      "  test['Pred'] = true_predictions\n"
     ]
    }
   ],
   "source": [
    "test['Pred'] = true_predictions"
   ]
  },
  {
   "cell_type": "code",
   "execution_count": 191,
   "metadata": {},
   "outputs": [
    {
     "data": {
      "text/html": [
       "<div>\n",
       "<style scoped>\n",
       "    .dataframe tbody tr th:only-of-type {\n",
       "        vertical-align: middle;\n",
       "    }\n",
       "\n",
       "    .dataframe tbody tr th {\n",
       "        vertical-align: top;\n",
       "    }\n",
       "\n",
       "    .dataframe thead th {\n",
       "        text-align: right;\n",
       "    }\n",
       "</style>\n",
       "<table border=\"1\" class=\"dataframe\">\n",
       "  <thead>\n",
       "    <tr style=\"text-align: right;\">\n",
       "      <th></th>\n",
       "      <th>Weekly_Sales</th>\n",
       "      <th>Pred</th>\n",
       "    </tr>\n",
       "    <tr>\n",
       "      <th>Date</th>\n",
       "      <th></th>\n",
       "      <th></th>\n",
       "    </tr>\n",
       "  </thead>\n",
       "  <tbody>\n",
       "    <tr>\n",
       "      <th>2012-05-18</th>\n",
       "      <td>1595901.87</td>\n",
       "      <td>1.567311e+06</td>\n",
       "    </tr>\n",
       "    <tr>\n",
       "      <th>2012-05-25</th>\n",
       "      <td>1555444.55</td>\n",
       "      <td>1.559116e+06</td>\n",
       "    </tr>\n",
       "    <tr>\n",
       "      <th>2012-06-01</th>\n",
       "      <td>1624477.58</td>\n",
       "      <td>1.555242e+06</td>\n",
       "    </tr>\n",
       "    <tr>\n",
       "      <th>2012-06-08</th>\n",
       "      <td>1697230.96</td>\n",
       "      <td>1.553418e+06</td>\n",
       "    </tr>\n",
       "    <tr>\n",
       "      <th>2012-06-15</th>\n",
       "      <td>1630607.00</td>\n",
       "      <td>1.541404e+06</td>\n",
       "    </tr>\n",
       "    <tr>\n",
       "      <th>2012-06-22</th>\n",
       "      <td>1527845.81</td>\n",
       "      <td>1.535728e+06</td>\n",
       "    </tr>\n",
       "    <tr>\n",
       "      <th>2012-06-29</th>\n",
       "      <td>1540421.49</td>\n",
       "      <td>1.530808e+06</td>\n",
       "    </tr>\n",
       "    <tr>\n",
       "      <th>2012-07-06</th>\n",
       "      <td>1769854.16</td>\n",
       "      <td>1.526237e+06</td>\n",
       "    </tr>\n",
       "    <tr>\n",
       "      <th>2012-07-13</th>\n",
       "      <td>1527014.04</td>\n",
       "      <td>1.521965e+06</td>\n",
       "    </tr>\n",
       "    <tr>\n",
       "      <th>2012-07-20</th>\n",
       "      <td>1497954.76</td>\n",
       "      <td>1.518461e+06</td>\n",
       "    </tr>\n",
       "    <tr>\n",
       "      <th>2012-07-27</th>\n",
       "      <td>1439123.71</td>\n",
       "      <td>1.516434e+06</td>\n",
       "    </tr>\n",
       "    <tr>\n",
       "      <th>2012-08-03</th>\n",
       "      <td>1631135.79</td>\n",
       "      <td>1.516308e+06</td>\n",
       "    </tr>\n",
       "    <tr>\n",
       "      <th>2012-08-10</th>\n",
       "      <td>1592409.97</td>\n",
       "      <td>1.516460e+06</td>\n",
       "    </tr>\n",
       "    <tr>\n",
       "      <th>2012-08-17</th>\n",
       "      <td>1597868.05</td>\n",
       "      <td>1.515189e+06</td>\n",
       "    </tr>\n",
       "    <tr>\n",
       "      <th>2012-08-24</th>\n",
       "      <td>1494122.38</td>\n",
       "      <td>1.514163e+06</td>\n",
       "    </tr>\n",
       "    <tr>\n",
       "      <th>2012-08-31</th>\n",
       "      <td>1582083.40</td>\n",
       "      <td>1.513684e+06</td>\n",
       "    </tr>\n",
       "    <tr>\n",
       "      <th>2012-09-07</th>\n",
       "      <td>1661767.33</td>\n",
       "      <td>1.513791e+06</td>\n",
       "    </tr>\n",
       "    <tr>\n",
       "      <th>2012-09-14</th>\n",
       "      <td>1517428.87</td>\n",
       "      <td>1.513758e+06</td>\n",
       "    </tr>\n",
       "    <tr>\n",
       "      <th>2012-09-21</th>\n",
       "      <td>1506126.06</td>\n",
       "      <td>1.514577e+06</td>\n",
       "    </tr>\n",
       "    <tr>\n",
       "      <th>2012-09-28</th>\n",
       "      <td>1437059.26</td>\n",
       "      <td>1.516269e+06</td>\n",
       "    </tr>\n",
       "    <tr>\n",
       "      <th>2012-10-05</th>\n",
       "      <td>1670785.97</td>\n",
       "      <td>1.516790e+06</td>\n",
       "    </tr>\n",
       "    <tr>\n",
       "      <th>2012-10-12</th>\n",
       "      <td>1573072.81</td>\n",
       "      <td>1.517177e+06</td>\n",
       "    </tr>\n",
       "    <tr>\n",
       "      <th>2012-10-19</th>\n",
       "      <td>1508068.77</td>\n",
       "      <td>1.517365e+06</td>\n",
       "    </tr>\n",
       "    <tr>\n",
       "      <th>2012-10-26</th>\n",
       "      <td>1493659.74</td>\n",
       "      <td>1.517681e+06</td>\n",
       "    </tr>\n",
       "  </tbody>\n",
       "</table>\n",
       "</div>"
      ],
      "text/plain": [
       "            Weekly_Sales          Pred\n",
       "Date                                  \n",
       "2012-05-18    1595901.87  1.567311e+06\n",
       "2012-05-25    1555444.55  1.559116e+06\n",
       "2012-06-01    1624477.58  1.555242e+06\n",
       "2012-06-08    1697230.96  1.553418e+06\n",
       "2012-06-15    1630607.00  1.541404e+06\n",
       "2012-06-22    1527845.81  1.535728e+06\n",
       "2012-06-29    1540421.49  1.530808e+06\n",
       "2012-07-06    1769854.16  1.526237e+06\n",
       "2012-07-13    1527014.04  1.521965e+06\n",
       "2012-07-20    1497954.76  1.518461e+06\n",
       "2012-07-27    1439123.71  1.516434e+06\n",
       "2012-08-03    1631135.79  1.516308e+06\n",
       "2012-08-10    1592409.97  1.516460e+06\n",
       "2012-08-17    1597868.05  1.515189e+06\n",
       "2012-08-24    1494122.38  1.514163e+06\n",
       "2012-08-31    1582083.40  1.513684e+06\n",
       "2012-09-07    1661767.33  1.513791e+06\n",
       "2012-09-14    1517428.87  1.513758e+06\n",
       "2012-09-21    1506126.06  1.514577e+06\n",
       "2012-09-28    1437059.26  1.516269e+06\n",
       "2012-10-05    1670785.97  1.516790e+06\n",
       "2012-10-12    1573072.81  1.517177e+06\n",
       "2012-10-19    1508068.77  1.517365e+06\n",
       "2012-10-26    1493659.74  1.517681e+06"
      ]
     },
     "execution_count": 191,
     "metadata": {},
     "output_type": "execute_result"
    }
   ],
   "source": [
    "test"
   ]
  },
  {
   "cell_type": "code",
   "execution_count": 201,
   "metadata": {
    "scrolled": false
   },
   "outputs": [
    {
     "data": {
      "text/plain": [
       "<AxesSubplot:xlabel='Date'>"
      ]
     },
     "execution_count": 201,
     "metadata": {},
     "output_type": "execute_result"
    },
    {
     "data": {
      "image/png": "[encoded data removed]",
      "text/plain": [
       "<Figure size 864x576 with 1 Axes>"
      ]
     },
     "metadata": {
      "needs_background": "light"
     },
     "output_type": "display_data"
    }
   ],
   "source": [
    "train.plot(figsize  = (12,8),legend = True)\n",
    "test['Pred'].plot(legend = True)\n",
    "test['Weekly_Sales'].plot(legend = True)"
   ]
  },
  {
   "cell_type": "code",
   "execution_count": 194,
   "metadata": {},
   "outputs": [],
   "source": [
    "from sklearn.metrics import mean_squared_error"
   ]
  },
  {
   "cell_type": "code",
   "execution_count": 196,
   "metadata": {},
   "outputs": [
    {
     "data": {
      "text/plain": [
       "88227.681596869"
      ]
     },
     "execution_count": 196,
     "metadata": {},
     "output_type": "execute_result"
    }
   ],
   "source": [
    "(mean_squared_error(test['Weekly_Sales'],test['Pred']))**0.5"
   ]
  },
  {
   "cell_type": "code",
   "execution_count": 198,
   "metadata": {},
   "outputs": [
    {
     "data": {
      "text/plain": [
       "0.05780788443052547"
      ]
     },
     "execution_count": 198,
     "metadata": {},
     "output_type": "execute_result"
    }
   ],
   "source": [
    "(mean_squared_error(test['Weekly_Sales'],test['Pred']))**0.5/test['Pred'].mean()"
   ]
  }
 ],
 "metadata": {
  "kernelspec": {
   "display_name": "Python 3 (ipykernel)",
   "language": "python",
   "name": "python3"
  },
  "language_info": {
   "codemirror_mode": {
    "name": "ipython",
    "version": 3
   },
   "file_extension": ".py",
   "mimetype": "text/x-python",
   "name": "python",
   "nbconvert_exporter": "python",
   "pygments_lexer": "ipython3",
   "version": "3.9.12"
  },
  "vscode": {
   "interpreter": {
    "hash": "23b4a3e8622309bcc6db3d5cc6eb73d60ab98d9ec23bad6a26b709981ccb403a"
   }
  }
 },
 "nbformat": 4,
 "nbformat_minor": 2
}
